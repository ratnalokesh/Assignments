{
 "cells": [
  {
   "cell_type": "markdown",
   "metadata": {},
   "source": [
    "TASK 1:"
   ]
  },
  {
   "cell_type": "markdown",
   "metadata": {},
   "source": [
    "1.1 Write a Python Program to implement your own myreduce() function which works exactly like\n",
    "Python's built-in function reduce()"
   ]
  },
  {
   "cell_type": "code",
   "execution_count": 34,
   "metadata": {},
   "outputs": [
    {
     "name": "stdout",
     "output_type": "stream",
     "text": [
      "12\n"
     ]
    }
   ],
   "source": [
    "#Answer\n",
    "def myreduce(function, sequence):\n",
    "    function(sequence)\n",
    "    \n",
    "    \n",
    "def addfun(list):\n",
    "    sum=0\n",
    "    for i in list:\n",
    "     sum+=i\n",
    "    print(sum)\n",
    "\n",
    "obj=addfun\n",
    "list=[1,1,1,1,1,1,1,1,1,1,1,1]\n",
    "myreduce(obj,list)"
   ]
  },
  {
   "cell_type": "markdown",
   "metadata": {},
   "source": [
    "1.2 Write a Python program to implement your own myfilter() function which works exactly like\n",
    "Python's built-in function filter()"
   ]
  },
  {
   "cell_type": "code",
   "execution_count": 87,
   "metadata": {},
   "outputs": [
    {
     "name": "stdout",
     "output_type": "stream",
     "text": [
      "[2, 4, 6, 8]\n"
     ]
    }
   ],
   "source": [
    "#Answer\n",
    "\n",
    "def myfilter(function, sequence):\n",
    "    function(sequence)\n",
    "\n",
    "def even_check(list):\n",
    "    result=[]\n",
    "    for num in list:\n",
    "         if num%2 ==0:\n",
    "            result.append(num)\n",
    "    print(result)\n",
    "        \n",
    "obj=even_check\n",
    "list =[1,2,3,4,5,6,7,8]\n",
    "myfilter(obj,list)"
   ]
  },
  {
   "cell_type": "markdown",
   "metadata": {},
   "source": [
    "2.\n",
    "Implement List comprehensions to produce the following lists.\n",
    "Write List comprehensions to produce the following Lists"
   ]
  },
  {
   "cell_type": "code",
   "execution_count": 100,
   "metadata": {},
   "outputs": [
    {
     "name": "stdout",
     "output_type": "stream",
     "text": [
      "['A', 'C', 'A', 'D', 'G', 'I', 'L', 'D']\n",
      "['x', 'xx', 'xxx', 'xxxx', 'y', 'yy', 'yyy', 'yyyy', 'z', 'zz', 'zzz', 'zzzz']\n",
      "['x', 'y', 'z', 'xx', 'yy', 'zz', 'xxx', 'yyy', 'zzz', 'xxxx', 'yyyy', 'zzzz']\n",
      "[[2], [3], [4], [3], [4], [5], [4], [5], [6]]\n",
      "[[2, 3, 4, 5], [3, 4, 5, 6], [4, 5, 6, 7], [5, 6, 7, 8]]\n",
      "[(1, 1), (2, 1), (3, 1), (1, 2), (2, 2), (3, 2), (1, 3), (2, 3), (3, 3)]\n"
     ]
    }
   ],
   "source": [
    "#Answer\n",
    "\n",
    "word = 'ACADGILD'\n",
    "alphabet_list = [ alphabet for alphabet in word ]\n",
    "print (str(alphabet_list))\n",
    "\n",
    "\n",
    "list = ['x','y','z']\n",
    "result = [ item*num for item in list for num in range(1,5)  ]\n",
    "print(str(result))\n",
    "\n",
    "\n",
    "result = [ item*num for num in range(1,5) for item in list  ]\n",
    "print(str(result))\n",
    "\n",
    "list = [2,3,4]\n",
    "result = [ [item+num] for item in list for num in range(0,3)]\n",
    "print(str(result))\n",
    "\n",
    "list = [2,3,4,5]\n",
    "result = [ [item+num for item in list] for num in range(0,4)  ]\n",
    "print(str(result))\n",
    "\n",
    "list=[1,2,3]\n",
    "result = [ (b,a) for a in list for b in list]\n",
    "print(str(result))"
   ]
  },
  {
   "cell_type": "markdown",
   "metadata": {},
   "source": [
    "3. Implement a function longestWord() that takes a list of words and returns the longest one."
   ]
  },
  {
   "cell_type": "code",
   "execution_count": 3,
   "metadata": {},
   "outputs": [
    {
     "name": "stdout",
     "output_type": "stream",
     "text": [
      "The longest word is : sgsdgsdgSdSDGDSGsdgsdg\n"
     ]
    }
   ],
   "source": [
    "#Answer\n",
    "def longestWord(listOfWords):\n",
    "        myDic={}\n",
    "        myList=[]\n",
    "        for word in listOfWords:\n",
    "            myList.append(len(word))\n",
    "            myDic[len(word)]=word\n",
    "        myList.sort()\n",
    "        print('The longest word is :',myDic.get(myList[len(myList)-1]))\n",
    "            \n",
    "            \n",
    "        \n",
    "longestWord(['a','ab','sdhgaj','htgfdafgsgsg','sgsdgsdgSdSDGDSGsdgsdg'])  "
   ]
  },
  {
   "cell_type": "markdown",
   "metadata": {},
   "source": [
    "TASK 2:"
   ]
  },
  {
   "cell_type": "markdown",
   "metadata": {},
   "source": [
    "1.1\n",
    "Write a Python Program(with class concepts) to find the area of the triangle using the below\n",
    "formula.\n",
    "area = (s*(s-a)*(s-b)*(s-c)) ** 0.5\n",
    "Function to take the length of the sides of triangle from user should be defined in the parent\n",
    "class and function to calculate the area should be defined in subclass."
   ]
  },
  {
   "cell_type": "code",
   "execution_count": 4,
   "metadata": {},
   "outputs": [
    {
     "name": "stdout",
     "output_type": "stream",
     "text": [
      "Enter side 1 : 3\n",
      "Enter side 2 : 5\n",
      "Enter side 3 : 4\n",
      "The area of the triangle is 6.00\n"
     ]
    }
   ],
   "source": [
    "#Answer\n",
    "\n",
    "class Polygon:\n",
    "    def __init__(self, no_of_sides):\n",
    "        self.n = no_of_sides\n",
    "        self.sides = [0 for i in range(no_of_sides)]\n",
    "    def inputSides(self):\n",
    "        self.sides = [float(input(\"Enter side \"+str(i+1)+\" : \")) for i in range(self.n)]\n",
    "            \n",
    "class Triangle(Polygon):\n",
    "    def __init__(self):\n",
    "        Polygon.__init__(self,3)\n",
    "    def findArea(self):\n",
    "        a, b, c = self.sides\n",
    "        s = (a + b + c) / 2\n",
    "        area = (s*(s-a)*(s-b)*(s-c)) ** 0.5\n",
    "        print('The area of the triangle is %0.2f' %area)\n",
    "        \n",
    "t = Triangle()\n",
    "t.inputSides()\n",
    "t.findArea()"
   ]
  },
  {
   "cell_type": "markdown",
   "metadata": {},
   "source": [
    "1.2\n",
    "Write a function filter_long_words() that takes a list of words and an integer n and returns the list\n",
    "of words that are longer than n."
   ]
  },
  {
   "cell_type": "code",
   "execution_count": 1,
   "metadata": {},
   "outputs": [
    {
     "name": "stdout",
     "output_type": "stream",
     "text": [
      "['abc', 'abcd']\n"
     ]
    }
   ],
   "source": [
    "#Answer\n",
    "\n",
    "def filter_long_words(listOfWords,n):\n",
    "    wordsList=[]\n",
    "    for word in listOfWords:\n",
    "        if len(word)>n:\n",
    "            wordsList.append(word)\n",
    "    print(wordsList)\n",
    "    \n",
    "    \n",
    "filter_long_words(['abc','ab','a','abcd'],2)\n",
    "    "
   ]
  },
  {
   "cell_type": "markdown",
   "metadata": {},
   "source": [
    "2.1\n",
    "Write a Python program using function concept that maps list of words into a list of integers\n",
    "representing the lengths of the corresponding words ."
   ]
  },
  {
   "cell_type": "code",
   "execution_count": 2,
   "metadata": {},
   "outputs": [
    {
     "name": "stdout",
     "output_type": "stream",
     "text": [
      "[2, 3, 4]\n"
     ]
    }
   ],
   "source": [
    "#Answer\n",
    "\n",
    "def myfun(listOfWords):\n",
    "    myList=[]\n",
    "    for word in listOfWords:\n",
    "        myList.append(len(word))\n",
    "    print(myList)\n",
    "    \n",
    "myfun(['ab','cde','erty'])\n",
    "    "
   ]
  },
  {
   "cell_type": "markdown",
   "metadata": {},
   "source": [
    "2.2\n",
    "Write a Python function which takes a character (i.e. a string of length 1) and returns True if it is\n",
    "a vowel, False otherwise."
   ]
  },
  {
   "cell_type": "code",
   "execution_count": 3,
   "metadata": {},
   "outputs": [
    {
     "name": "stdout",
     "output_type": "stream",
     "text": [
      "True\n",
      "False\n"
     ]
    }
   ],
   "source": [
    "#Answer\n",
    "\n",
    "def isCharVowel(char):\n",
    "    if (char=='a') or (char=='e') or (char=='i') or (char=='o') or (char=='u'):\n",
    "        print('True')\n",
    "    else:\n",
    "        print('False')\n",
    "\n",
    "isCharVowel('a')\n",
    "isCharVowel('b')"
   ]
  },
  {
   "cell_type": "code",
   "execution_count": null,
   "metadata": {},
   "outputs": [],
   "source": []
  }
 ],
 "metadata": {
  "kernelspec": {
   "display_name": "Python 3",
   "language": "python",
   "name": "python3"
  },
  "language_info": {
   "codemirror_mode": {
    "name": "ipython",
    "version": 3
   },
   "file_extension": ".py",
   "mimetype": "text/x-python",
   "name": "python",
   "nbconvert_exporter": "python",
   "pygments_lexer": "ipython3",
   "version": "3.7.3"
  }
 },
 "nbformat": 4,
 "nbformat_minor": 2
}
